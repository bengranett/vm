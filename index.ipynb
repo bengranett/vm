{
 "cells": [
  {
   "cell_type": "markdown",
   "metadata": {},
   "source": [
    "# Visibility mask demos\n",
    "\n",
    "The code you need to run these notebooks is here: https://bitbucket.org/didamarkovic/pypelid.\n",
    "Contact Dida and Ben to get access.  \n",
    "\n",
    "* [SynCat](syncat.ipynb) - sample galaxy redshift and properties\n",
    "* [Geometric mask](mask.ipynb) - sample sky coordinates within the Euclid survey"
   ]
  }
 ],
 "metadata": {
  "kernelspec": {
   "display_name": "Python 2",
   "language": "python",
   "name": "python2"
  },
  "language_info": {
   "codemirror_mode": {
    "name": "ipython",
    "version": 2
   },
   "file_extension": ".py",
   "mimetype": "text/x-python",
   "name": "python",
   "nbconvert_exporter": "python",
   "pygments_lexer": "ipython2",
   "version": "2.7.12"
  }
 },
 "nbformat": 4,
 "nbformat_minor": 0
}
