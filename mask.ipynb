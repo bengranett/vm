{
 "cells": [
  {
   "cell_type": "code",
   "execution_count": 1,
   "metadata": {
    "collapsed": false
   },
   "outputs": [
    {
     "name": "stderr",
     "output_type": "stream",
     "text": [
      "/Users/ben/.virtualenvs/pypelid/lib/python2.7/site-packages/IPython/kernel/__init__.py:13: ShimWarning: The `IPython.kernel` package has been deprecated. You should import from ipykernel or jupyter_client instead.\n",
      "  \"You should import from ipykernel or jupyter_client instead.\", ShimWarning)\n"
     ]
    }
   ],
   "source": [
    "import os\n",
    "import logging\n",
    "import pylab\n",
    "import numpy as np\n",
    "from pypelid.survey.observation import Survey\n",
    "from pypelid.survey.mask import Mask\n",
    "logging.basicConfig(level=logging.DEBUG)"
   ]
  },
  {
   "cell_type": "markdown",
   "metadata": {},
   "source": [
    "# Mask initialization"
   ]
  },
  {
   "cell_type": "code",
   "execution_count": 2,
   "metadata": {
    "collapsed": true
   },
   "outputs": [],
   "source": [
    "config = {\n",
    "    'vm_density': 10  # number of randoms per square degree\n",
    "     }"
   ]
  },
  {
   "cell_type": "markdown",
   "metadata": {},
   "source": [
    "The Survey class loads the survey definition file which lists the coordinates of the pointings.  We can also specify the dithering pattern.  In this case there is no dithering."
   ]
  },
  {
   "cell_type": "code",
   "execution_count": 3,
   "metadata": {
    "collapsed": false
   },
   "outputs": [
    {
     "name": "stdout",
     "output_type": "stream",
     "text": [
      "> Computing dither positions and orientations of 42749 fields.\n"
     ]
    }
   ],
   "source": [
    "survey = Survey(config=config,\n",
    "                survey_file='survey.dat', \n",
    "                dither_offsets=[0,0],\n",
    "                dither_angles=[0],\n",
    "                verbose=True,\n",
    "               )"
   ]
  },
  {
   "cell_type": "markdown",
   "metadata": {},
   "source": [
    "A polygon mask is constructed from the list of pointings and we save it to a file.  This takes 1 min for the full survey file with 42749 pointings."
   ]
  },
  {
   "cell_type": "code",
   "execution_count": 4,
   "metadata": {
    "collapsed": false
   },
   "outputs": [
    {
     "name": "stderr",
     "output_type": "stream",
     "text": [
      "DEBUG:pypelid.survey.mask:import 683984 polygons\n",
      "DEBUG:pypelid.survey.mask:count 68398: 9.999942 %\n",
      "DEBUG:pypelid.survey.mask:count 136796: 19.999883 %\n",
      "DEBUG:pypelid.survey.mask:count 205194: 29.999825 %\n",
      "DEBUG:pypelid.survey.mask:count 273592: 39.999766 %\n",
      "DEBUG:pypelid.survey.mask:count 341990: 49.999708 %\n",
      "DEBUG:pypelid.survey.mask:count 410388: 59.999649 %\n",
      "DEBUG:pypelid.survey.mask:count 478786: 69.999591 %\n",
      "DEBUG:pypelid.survey.mask:count 547184: 79.999532 %\n",
      "DEBUG:pypelid.survey.mask:count 615582: 89.999474 %\n",
      "DEBUG:pypelid.survey.mask:count 683980: 99.999415 %\n",
      "INFO:pypelid.survey.mask:Loaded 683984 polygons\n",
      "INFO:pypelid.survey.mask:Wrote data to file mask_full.pickle.  time=58.768433\n"
     ]
    }
   ],
   "source": [
    "mask_file = 'mask_full.pickle'\n",
    "if not os.path.exists(mask_file):\n",
    "    mask = survey.survey_mask()  # this takes ~1 min for the full survey file\n",
    "    mask.dump(mask_file)\n",
    "else:\n",
    "    mask = Mask()\n",
    "    mask.load(mask_file)"
   ]
  },
  {
   "cell_type": "markdown",
   "metadata": {},
   "source": [
    "# Draw random sky coordinates in the survey\n",
    "\n",
    "Points will be drawn from the survey area.  We will sample in patches of sky defined by healpix cells with the following nside parameter."
   ]
  },
  {
   "cell_type": "code",
   "execution_count": null,
   "metadata": {
    "collapsed": true
   },
   "outputs": [],
   "source": [
    "nside = 2\n",
    "pixel_list = np.arange(0,12*nside**2)"
   ]
  },
  {
   "cell_type": "code",
   "execution_count": null,
   "metadata": {
    "collapsed": false
   },
   "outputs": [
    {
     "name": "stderr",
     "output_type": "stream",
     "text": [
      "/sw/lib/python2.7/site-packages/healpy/pixelfunc.py:267: RuntimeWarning: invalid value encountered in less_equal\n",
      "  return np.absolute(m - badval) <= atol + rtol * np.absolute(badval)\n",
      "/sw/lib/python2.7/site-packages/numpy/ma/core.py:2249: RuntimeWarning: invalid value encountered in less_equal\n",
      "  mabs(xnew - value), atol + rtol * mabs(value))\n",
      "/sw/lib/python2.7/site-packages/healpy/projaxes.py:998: RuntimeWarning: invalid value encountered in less\n",
      "  result.data[result.data<0]=0.0\n",
      "/sw/lib/python2.7/site-packages/healpy/projaxes.py:999: RuntimeWarning: invalid value encountered in greater\n",
      "  result.data[result.data>1]=1.0\n",
      "DEBUG:pypelid.survey.mask:selected cell: 0 (nside 2)\n",
      "DEBUG:pypelid.survey.mask:Building mask lookup tree\n",
      "DEBUG:pypelid.survey.mask:Mask search radius: 0.002098\n",
      "DEBUG:pypelid.survey.mask:pixel mask nside=256 order=ring\n",
      "DEBUG:pypelid.survey.mask:Random sampling: npoints=570, ncells=1087\n",
      "DEBUG:pypelid.survey.mask:done! elapsed time = 0.024326 sec\n",
      "DEBUG:pypelid.survey.mask:Random sampling success rate: 0.691228\n",
      "DEBUG:pypelid.survey.mask:selected cell: 1 (nside 2)\n",
      "DEBUG:pypelid.survey.mask:Random sampling: npoints=8529, ncells=16260\n",
      "DEBUG:pypelid.survey.mask:done! elapsed time = 0.258627 sec\n",
      "DEBUG:pypelid.survey.mask:Random sampling success rate: 0.803025\n",
      "DEBUG:pypelid.survey.mask:selected cell: 2 (nside 2)\n",
      "DEBUG:pypelid.survey.mask:Random sampling: npoints=8473, ncells=16154\n",
      "DEBUG:pypelid.survey.mask:done! elapsed time = 0.263500 sec\n",
      "DEBUG:pypelid.survey.mask:Random sampling success rate: 0.793816\n",
      "DEBUG:pypelid.survey.mask:selected cell: 3 (nside 2)\n",
      "DEBUG:pypelid.survey.mask:Random sampling: npoints=1885, ncells=3594\n",
      "DEBUG:pypelid.survey.mask:done! elapsed time = 0.072690 sec\n",
      "DEBUG:pypelid.survey.mask:Random sampling success rate: 0.770822\n",
      "DEBUG:pypelid.survey.mask:selected cell: 4 (nside 2)\n",
      "DEBUG:pypelid.survey.mask:Random sampling: npoints=2714, ncells=5174\n",
      "DEBUG:pypelid.survey.mask:done! elapsed time = 0.085876 sec\n",
      "DEBUG:pypelid.survey.mask:Random sampling success rate: 0.748710\n",
      "DEBUG:pypelid.survey.mask:selected cell: 5 (nside 2)\n",
      "DEBUG:pypelid.survey.mask:Random sampling: npoints=157, ncells=301\n",
      "DEBUG:pypelid.survey.mask:done! elapsed time = 0.008377 sec\n",
      "DEBUG:pypelid.survey.mask:Random sampling success rate: 0.707006\n",
      "DEBUG:pypelid.survey.mask:selected cell: 6 (nside 2)\n",
      "DEBUG:pypelid.survey.mask:Random sampling: npoints=4499, ncells=8578\n",
      "DEBUG:pypelid.survey.mask:done! elapsed time = 0.144254 sec\n",
      "DEBUG:pypelid.survey.mask:Random sampling success rate: 0.806401\n",
      "DEBUG:pypelid.survey.mask:selected cell: 7 (nside 2)\n",
      "DEBUG:pypelid.survey.mask:Random sampling: npoints=8167, ncells=15571\n",
      "DEBUG:pypelid.survey.mask:done! elapsed time = 0.242840 sec\n",
      "DEBUG:pypelid.survey.mask:Random sampling success rate: 0.786213\n",
      "DEBUG:pypelid.survey.mask:selected cell: 8 (nside 2)\n",
      "DEBUG:pypelid.survey.mask:Random sampling: npoints=8480, ncells=16167\n",
      "DEBUG:pypelid.survey.mask:done! elapsed time = 0.238534 sec\n",
      "DEBUG:pypelid.survey.mask:Random sampling success rate: 0.784080\n",
      "DEBUG:pypelid.survey.mask:selected cell: 9 (nside 2)\n",
      "DEBUG:pypelid.survey.mask:Random sampling: npoints=8576, ncells=16350\n",
      "DEBUG:pypelid.survey.mask:done! elapsed time = 0.264071 sec\n",
      "DEBUG:pypelid.survey.mask:Random sampling success rate: 0.814366\n",
      "DEBUG:pypelid.survey.mask:selected cell: 10 (nside 2)\n",
      "DEBUG:pypelid.survey.mask:Random sampling: npoints=2370, ncells=4519\n",
      "DEBUG:pypelid.survey.mask:done! elapsed time = 0.083651 sec\n",
      "DEBUG:pypelid.survey.mask:Random sampling success rate: 0.780591\n",
      "DEBUG:pypelid.survey.mask:selected cell: 11 (nside 2)\n",
      "DEBUG:pypelid.survey.mask:Random sampling: npoints=241, ncells=460\n",
      "DEBUG:pypelid.survey.mask:done! elapsed time = 0.011914 sec\n",
      "DEBUG:pypelid.survey.mask:Random sampling success rate: 0.634855\n",
      "DEBUG:pypelid.survey.mask:selected cell: 12 (nside 2)\n",
      "DEBUG:pypelid.survey.mask:Random sampling: npoints=450, ncells=859\n",
      "DEBUG:pypelid.survey.mask:done! elapsed time = 0.018481 sec\n",
      "DEBUG:pypelid.survey.mask:Random sampling success rate: 0.722222\n",
      "DEBUG:pypelid.survey.mask:selected cell: 13 (nside 2)\n",
      "DEBUG:pypelid.survey.mask:Random sampling: npoints=495, ncells=945\n",
      "DEBUG:pypelid.survey.mask:done! elapsed time = 0.016644 sec\n",
      "DEBUG:pypelid.survey.mask:Random sampling success rate: 0.692929\n",
      "DEBUG:pypelid.survey.mask:selected cell: 14 (nside 2)\n",
      "DEBUG:pypelid.survey.mask:Random sampling: npoints=120, ncells=229\n",
      "DEBUG:pypelid.survey.mask:done! elapsed time = 0.006534 sec\n",
      "DEBUG:pypelid.survey.mask:Random sampling success rate: 0.641667\n",
      "DEBUG:pypelid.survey.mask:selected cell: 15 (nside 2)\n",
      "DEBUG:pypelid.survey.mask:Random sampling: npoints=750, ncells=1431\n",
      "DEBUG:pypelid.survey.mask:done! elapsed time = 0.027489 sec\n",
      "DEBUG:pypelid.survey.mask:Random sampling success rate: 0.756000\n",
      "DEBUG:pypelid.survey.mask:selected cell: 16 (nside 2)\n",
      "DEBUG:pypelid.survey.mask:Random sampling: npoints=5296, ncells=10097\n",
      "DEBUG:pypelid.survey.mask:done! elapsed time = 0.162571 sec\n",
      "DEBUG:pypelid.survey.mask:Random sampling success rate: 0.773225\n",
      "DEBUG:pypelid.survey.mask:selected cell: 17 (nside 2)\n",
      "DEBUG:pypelid.survey.mask:Random sampling: npoints=8575, ncells=16348\n",
      "DEBUG:pypelid.survey.mask:done! elapsed time = 0.249254 sec\n",
      "DEBUG:pypelid.survey.mask:Random sampling success rate: 0.801050\n",
      "DEBUG:pypelid.survey.mask:selected cell: 18 (nside 2)\n",
      "DEBUG:pypelid.survey.mask:Random sampling: npoints=4524, ncells=8626\n",
      "DEBUG:pypelid.survey.mask:done! elapsed time = 0.137068 sec\n",
      "DEBUG:pypelid.survey.mask:Random sampling success rate: 0.809903\n",
      "DEBUG:pypelid.survey.mask:selected cell: 19 (nside 2)\n",
      "DEBUG:pypelid.survey.mask:Random sampling: npoints=1047, ncells=1996\n",
      "DEBUG:pypelid.survey.mask:done! elapsed time = 0.034467 sec\n",
      "DEBUG:pypelid.survey.mask:Random sampling success rate: 0.733524\n",
      "DEBUG:pypelid.survey.mask:selected cell: 20 (nside 2)\n",
      "DEBUG:pypelid.survey.mask:Random sampling: npoints=2294, ncells=4374\n",
      "DEBUG:pypelid.survey.mask:done! elapsed time = 0.072362 sec\n",
      "DEBUG:pypelid.survey.mask:Random sampling success rate: 0.780296\n",
      "DEBUG:pypelid.survey.mask:selected cell: 21 (nside 2)\n",
      "DEBUG:pypelid.survey.mask:Random sampling: npoints=3272, ncells=6239\n",
      "DEBUG:pypelid.survey.mask:done! elapsed time = 0.105282 sec\n",
      "DEBUG:pypelid.survey.mask:Random sampling success rate: 0.801956\n",
      "DEBUG:pypelid.survey.mask:selected cell: 22 (nside 2)\n",
      "DEBUG:pypelid.survey.mask:Random sampling: npoints=257, ncells=491\n",
      "DEBUG:pypelid.survey.mask:done! elapsed time = 0.011606 sec\n",
      "DEBUG:pypelid.survey.mask:Random sampling success rate: 0.758755\n",
      "DEBUG:pypelid.survey.mask:selected cell: 23 (nside 2)\n",
      "DEBUG:pypelid.survey.mask:Random sampling: npoints=1548, ncells=2952\n",
      "DEBUG:pypelid.survey.mask:done! elapsed time = 0.043895 sec\n",
      "DEBUG:pypelid.survey.mask:Random sampling success rate: 0.779716\n",
      "DEBUG:pypelid.survey.mask:selected cell: 24 (nside 2)\n",
      "DEBUG:pypelid.survey.mask:Random sampling: npoints=2303, ncells=4391\n",
      "DEBUG:pypelid.survey.mask:done! elapsed time = 0.069151 sec\n",
      "DEBUG:pypelid.survey.mask:Random sampling success rate: 0.768563\n",
      "DEBUG:pypelid.survey.mask:selected cell: 25 (nside 2)\n",
      "DEBUG:pypelid.survey.mask:Random sampling: npoints=5297, ncells=10099\n",
      "DEBUG:pypelid.survey.mask:done! elapsed time = 0.167806 sec\n",
      "DEBUG:pypelid.survey.mask:Random sampling success rate: 0.820464\n",
      "DEBUG:pypelid.survey.mask:selected cell: 26 (nside 2)\n",
      "DEBUG:pypelid.survey.mask:Random sampling: npoints=403, ncells=769\n",
      "DEBUG:pypelid.survey.mask:done! elapsed time = 0.025005 sec\n",
      "DEBUG:pypelid.survey.mask:Random sampling success rate: 0.751861\n",
      "DEBUG:pypelid.survey.mask:selected cell: 27 (nside 2)\n",
      "DEBUG:pypelid.survey.mask:Random sampling: npoints=332, ncells=633\n",
      "DEBUG:pypelid.survey.mask:done! elapsed time = 0.012815 sec\n",
      "DEBUG:pypelid.survey.mask:Random sampling success rate: 0.740964\n",
      "DEBUG:pypelid.survey.mask:selected cell: 28 (nside 2)\n",
      "DEBUG:pypelid.survey.mask:Random sampling: npoints=5340, ncells=10180\n",
      "DEBUG:pypelid.survey.mask:done! elapsed time = 0.185303 sec\n",
      "DEBUG:pypelid.survey.mask:Random sampling success rate: 0.769663\n",
      "DEBUG:pypelid.survey.mask:selected cell: 29 (nside 2)\n",
      "DEBUG:pypelid.survey.mask:Random sampling: npoints=8546, ncells=16292\n",
      "DEBUG:pypelid.survey.mask:done! elapsed time = 0.235537 sec\n",
      "DEBUG:pypelid.survey.mask:Random sampling success rate: 0.798385\n",
      "DEBUG:pypelid.survey.mask:selected cell: 30 (nside 2)\n",
      "DEBUG:pypelid.survey.mask:Random sampling: npoints=3485, ncells=6645\n",
      "DEBUG:pypelid.survey.mask:done! elapsed time = 0.098783 sec\n",
      "DEBUG:pypelid.survey.mask:Random sampling success rate: 0.815208\n",
      "DEBUG:pypelid.survey.mask:selected cell: 31 (nside 2)\n",
      "DEBUG:pypelid.survey.mask:Random sampling: npoints=3064, ncells=5842\n",
      "DEBUG:pypelid.survey.mask:done! elapsed time = 0.092410 sec\n",
      "DEBUG:pypelid.survey.mask:Random sampling success rate: 0.794060\n",
      "DEBUG:pypelid.survey.mask:selected cell: 32 (nside 2)\n",
      "DEBUG:pypelid.survey.mask:Random sampling: npoints=480, ncells=916\n",
      "DEBUG:pypelid.survey.mask:done! elapsed time = 0.016933 sec\n",
      "DEBUG:pypelid.survey.mask:Random sampling success rate: 0.731250\n",
      "DEBUG:pypelid.survey.mask:selected cell: 33 (nside 2)\n",
      "DEBUG:pypelid.survey.mask:Random sampling: npoints=324, ncells=619\n",
      "DEBUG:pypelid.survey.mask:done! elapsed time = 0.012643 sec\n",
      "DEBUG:pypelid.survey.mask:Random sampling success rate: 0.712963\n",
      "DEBUG:pypelid.survey.mask:selected cell: 34 (nside 2)\n",
      "DEBUG:pypelid.survey.mask:Random sampling: npoints=121, ncells=231\n",
      "DEBUG:pypelid.survey.mask:done! elapsed time = 0.007729 sec\n",
      "DEBUG:pypelid.survey.mask:Random sampling success rate: 0.652893\n",
      "DEBUG:pypelid.survey.mask:selected cell: 35 (nside 2)\n",
      "DEBUG:pypelid.survey.mask:Random sampling: npoints=764, ncells=1457\n",
      "DEBUG:pypelid.survey.mask:done! elapsed time = 0.025386 sec\n",
      "DEBUG:pypelid.survey.mask:Random sampling success rate: 0.742147\n",
      "DEBUG:pypelid.survey.mask:selected cell: 36 (nside 2)\n",
      "DEBUG:pypelid.survey.mask:Random sampling: npoints=8570, ncells=16338\n",
      "DEBUG:pypelid.survey.mask:done! elapsed time = 0.267507 sec\n",
      "DEBUG:pypelid.survey.mask:Random sampling success rate: 0.787165\n",
      "DEBUG:pypelid.survey.mask:selected cell: 37 (nside 2)\n",
      "DEBUG:pypelid.survey.mask:Random sampling: npoints=8582, ncells=16361\n",
      "DEBUG:pypelid.survey.mask:done! elapsed time = 0.250975 sec\n",
      "DEBUG:pypelid.survey.mask:Random sampling success rate: 0.811582\n",
      "DEBUG:pypelid.survey.mask:selected cell: 38 (nside 2)\n",
      "DEBUG:pypelid.survey.mask:Random sampling: npoints=1349, ncells=2572\n",
      "DEBUG:pypelid.survey.mask:done! elapsed time = 0.041656 sec\n",
      "DEBUG:pypelid.survey.mask:Random sampling success rate: 0.767976\n",
      "DEBUG:pypelid.survey.mask:selected cell: 39 (nside 2)\n",
      "DEBUG:pypelid.survey.mask:Random sampling: npoints=751, ncells=1432\n",
      "DEBUG:pypelid.survey.mask:done! elapsed time = 0.029786 sec\n",
      "DEBUG:pypelid.survey.mask:Random sampling success rate: 0.712383\n",
      "DEBUG:pypelid.survey.mask:selected cell: 40 (nside 2)\n",
      "DEBUG:pypelid.survey.mask:Random sampling: npoints=2318, ncells=4420\n",
      "DEBUG:pypelid.survey.mask:done! elapsed time = 0.084451 sec\n",
      "DEBUG:pypelid.survey.mask:Random sampling success rate: 0.754530\n",
      "DEBUG:pypelid.survey.mask:selected cell: 41 (nside 2)\n",
      "DEBUG:pypelid.survey.mask:Random sampling: npoints=174, ncells=333\n",
      "DEBUG:pypelid.survey.mask:done! elapsed time = 0.007946 sec\n",
      "DEBUG:pypelid.survey.mask:Random sampling success rate: 0.643678\n",
      "DEBUG:pypelid.survey.mask:selected cell: 42 (nside 2)\n",
      "DEBUG:pypelid.survey.mask:Random sampling: npoints=4147, ncells=7907\n",
      "DEBUG:pypelid.survey.mask:done! elapsed time = 0.121654 sec\n",
      "DEBUG:pypelid.survey.mask:Random sampling success rate: 0.803955\n",
      "DEBUG:pypelid.survey.mask:selected cell: 43 (nside 2)\n",
      "DEBUG:pypelid.survey.mask:Random sampling: npoints=8184, ncells=15602\n",
      "DEBUG:pypelid.survey.mask:done! elapsed time = 0.233981 sec\n",
      "DEBUG:pypelid.survey.mask:Random sampling success rate: 0.788734\n",
      "DEBUG:pypelid.survey.mask:selected cell: 44 (nside 2)\n",
      "DEBUG:pypelid.survey.mask:Random sampling: npoints=6983, ncells=13313\n"
     ]
    }
   ],
   "source": [
    "from matplotlib.cm import ScalarMappable\n",
    "from matplotlib.colors import Normalize\n",
    "import healpy as hp\n",
    "\n",
    "sc = ScalarMappable(Normalize(0, len(pixel_list)), cmap='jet')\n",
    "hp.mollview(np.zeros(12) + float('nan'), cbar=False, title=\"Random catalogue\")\n",
    "\n",
    "for cell in pixel_list:\n",
    "    lon, lat = mask.draw_random_position(dens=config['vm_density'], cell=cell, nside=nside)\n",
    "    \n",
    "    c = sc.to_rgba(cell)\n",
    "    hp.visufunc.projscatter(lon, lat, c=c, s=5., lw=0, lonlat=True)"
   ]
  },
  {
   "cell_type": "markdown",
   "metadata": {},
   "source": [
    "In this plot the points in the random catalogue are colored by healpix cell."
   ]
  },
  {
   "cell_type": "code",
   "execution_count": null,
   "metadata": {
    "collapsed": false
   },
   "outputs": [],
   "source": [
    "pylab.show()"
   ]
  },
  {
   "cell_type": "code",
   "execution_count": null,
   "metadata": {
    "collapsed": true
   },
   "outputs": [],
   "source": []
  }
 ],
 "metadata": {
  "kernelspec": {
   "display_name": "Python 2",
   "language": "python",
   "name": "python2"
  },
  "language_info": {
   "codemirror_mode": {
    "name": "ipython",
    "version": 2
   },
   "file_extension": ".py",
   "mimetype": "text/x-python",
   "name": "python",
   "nbconvert_exporter": "python",
   "pygments_lexer": "ipython2",
   "version": "2.7.12"
  }
 },
 "nbformat": 4,
 "nbformat_minor": 0
}
